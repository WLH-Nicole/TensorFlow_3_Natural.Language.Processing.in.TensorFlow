{
  "nbformat": 4,
  "nbformat_minor": 0,
  "metadata": {
    "colab": {
      "name": "W4 - Shakespeare - WLH.ipynb",
      "version": "0.3.2",
      "provenance": [],
      "collapsed_sections": []
    },
    "kernelspec": {
      "name": "python3",
      "display_name": "Python 3"
    },
    "accelerator": "GPU"
  },
  "cells": [
    {
      "cell_type": "code",
      "metadata": {
        "id": "BOwsuGQQY9OL",
        "colab_type": "code",
        "colab": {}
      },
      "source": [
        "from tensorflow.keras.preprocessing.sequence import pad_sequences\n",
        "from tensorflow.keras.layers import Embedding, LSTM, Dense, Dropout, Bidirectional\n",
        "from tensorflow.keras.preprocessing.text import Tokenizer\n",
        "from tensorflow.keras.models import Sequential\n",
        "from tensorflow.keras.optimizers import Adam\n",
        "from tensorflow.keras import regularizers\n",
        "import tensorflow.keras.utils as ku \n",
        "import numpy as np "
      ],
      "execution_count": 0,
      "outputs": []
    },
    {
      "cell_type": "code",
      "metadata": {
        "colab_type": "code",
        "id": "PRnDnCW-Z7qv",
        "outputId": "adbbd37f-a0d6-41f9-84c4-a9b80837839e",
        "colab": {
          "base_uri": "https://localhost:8080/",
          "height": 204
        }
      },
      "source": [
        "tokenizer = Tokenizer()\n",
        "!wget --no-check-certificate \\\n",
        "    https://storage.googleapis.com/laurencemoroney-blog.appspot.com/sonnets.txt \\\n",
        "    -O /tmp/sonnets.txt\n",
        "data = open('/tmp/sonnets.txt').read()\n",
        "\n",
        "corpus = data.lower().split(\"\\n\")\n",
        "\n",
        "\n",
        "tokenizer.fit_on_texts(corpus)\n",
        "total_words = len(tokenizer.word_index) + 1\n",
        "\n",
        "# create input sequences using list of tokens\n",
        "input_sequences = []\n",
        "for line in corpus:\n",
        "\ttoken_list = tokenizer.texts_to_sequences([line])[0]\n",
        "\tfor i in range(1, len(token_list)):\n",
        "\t\tn_gram_sequence = token_list[:i+1]\n",
        "\t\tinput_sequences.append(n_gram_sequence)\n",
        "\n",
        "\n",
        "# pad sequences \n",
        "max_sequence_len = max([len(x) for x in input_sequences])\n",
        "input_sequences = np.array(pad_sequences(input_sequences, maxlen=max_sequence_len, padding='pre'))\n",
        "\n",
        "# create predictors and label\n",
        "predictors, label = input_sequences[:,:-1],input_sequences[:,-1]\n",
        "\n",
        "label = ku.to_categorical(label, num_classes=total_words)"
      ],
      "execution_count": 3,
      "outputs": [
        {
          "output_type": "stream",
          "text": [
            "--2019-07-10 05:57:57--  https://storage.googleapis.com/laurencemoroney-blog.appspot.com/sonnets.txt\n",
            "Resolving storage.googleapis.com (storage.googleapis.com)... 108.177.125.128, 2404:6800:4008:c04::80\n",
            "Connecting to storage.googleapis.com (storage.googleapis.com)|108.177.125.128|:443... connected.\n",
            "HTTP request sent, awaiting response... 200 OK\n",
            "Length: 93578 (91K) [text/plain]\n",
            "Saving to: ‘/tmp/sonnets.txt’\n",
            "\n",
            "\r/tmp/sonnets.txt      0%[                    ]       0  --.-KB/s               \r/tmp/sonnets.txt    100%[===================>]  91.38K  --.-KB/s    in 0.001s  \n",
            "\n",
            "2019-07-10 05:57:58 (95.6 MB/s) - ‘/tmp/sonnets.txt’ saved [93578/93578]\n",
            "\n"
          ],
          "name": "stdout"
        }
      ]
    },
    {
      "cell_type": "code",
      "metadata": {
        "id": "w9vH8Y59ajYL",
        "colab_type": "code",
        "outputId": "788849cc-38df-44d0-f92e-dfcdcbb0c608",
        "colab": {
          "base_uri": "https://localhost:8080/",
          "height": 374
        }
      },
      "source": [
        "model = Sequential()\n",
        "model.add(Embedding(total_words, 100, input_length=max_sequence_len-1)) # Your Embedding Layer\n",
        "model.add(Bidirectional(LSTM(150, return_sequences = True)))            # An LSTM Layer\n",
        "model.add(Dropout(0.2))  # A dropout layer\n",
        "model.add(LSTM(100))     # Another LSTM Layer\n",
        "model.add(Dense(total_words/2, activation='relu', kernel_regularizer=regularizers.l2(0.01)))# A Dense Layer including regularizers\n",
        "model.add(Dense(total_words, activation='softmax'))# A Dense Layer\n",
        "\n",
        "# Pick a loss function and an optimizer\n",
        "model.compile(loss='categorical_crossentropy', optimizer='adam', metrics=['accuracy'])\n",
        "print(model.summary())\n"
      ],
      "execution_count": 5,
      "outputs": [
        {
          "output_type": "stream",
          "text": [
            "Model: \"sequential_1\"\n",
            "_________________________________________________________________\n",
            "Layer (type)                 Output Shape              Param #   \n",
            "=================================================================\n",
            "embedding_1 (Embedding)      (None, 10, 100)           321100    \n",
            "_________________________________________________________________\n",
            "bidirectional_1 (Bidirection (None, 10, 300)           301200    \n",
            "_________________________________________________________________\n",
            "dropout_1 (Dropout)          (None, 10, 300)           0         \n",
            "_________________________________________________________________\n",
            "lstm_3 (LSTM)                (None, 100)               160400    \n",
            "_________________________________________________________________\n",
            "dense_2 (Dense)              (None, 1605)              162105    \n",
            "_________________________________________________________________\n",
            "dense_3 (Dense)              (None, 3211)              5156866   \n",
            "=================================================================\n",
            "Total params: 6,101,671\n",
            "Trainable params: 6,101,671\n",
            "Non-trainable params: 0\n",
            "_________________________________________________________________\n",
            "None\n"
          ],
          "name": "stdout"
        }
      ]
    },
    {
      "cell_type": "code",
      "metadata": {
        "id": "AIg2f1HBxqof",
        "colab_type": "code",
        "outputId": "b06cb87a-f3d2-48c7-ec20-9c1faa709a97",
        "colab": {
          "base_uri": "https://localhost:8080/",
          "height": 1000
        }
      },
      "source": [
        " history = model.fit(predictors, label, epochs= 100, verbose=1)"
      ],
      "execution_count": 6,
      "outputs": [
        {
          "output_type": "stream",
          "text": [
            "W0710 05:59:17.852041 140463594178432 deprecation.py:323] From /usr/local/lib/python3.6/dist-packages/tensorflow/python/ops/math_grad.py:1250: add_dispatch_support.<locals>.wrapper (from tensorflow.python.ops.array_ops) is deprecated and will be removed in a future version.\n",
            "Instructions for updating:\n",
            "Use tf.where in 2.0, which has the same broadcast rule as np.where\n"
          ],
          "name": "stderr"
        },
        {
          "output_type": "stream",
          "text": [
            "Epoch 1/100\n",
            "15462/15462 [==============================] - 63s 4ms/sample - loss: 6.9025 - acc: 0.0204\n",
            "Epoch 2/100\n",
            "15462/15462 [==============================] - 61s 4ms/sample - loss: 6.4970 - acc: 0.0227\n",
            "Epoch 3/100\n",
            "15462/15462 [==============================] - 61s 4ms/sample - loss: 6.3921 - acc: 0.0266\n",
            "Epoch 4/100\n",
            "15462/15462 [==============================] - 60s 4ms/sample - loss: 6.2690 - acc: 0.0282\n",
            "Epoch 5/100\n",
            "15462/15462 [==============================] - 60s 4ms/sample - loss: 6.1746 - acc: 0.0322\n",
            "Epoch 6/100\n",
            "15462/15462 [==============================] - 60s 4ms/sample - loss: 6.0863 - acc: 0.0380\n",
            "Epoch 7/100\n",
            "15462/15462 [==============================] - 60s 4ms/sample - loss: 6.0025 - acc: 0.0383\n",
            "Epoch 8/100\n",
            "15462/15462 [==============================] - 60s 4ms/sample - loss: 5.9226 - acc: 0.0435\n",
            "Epoch 9/100\n",
            "15462/15462 [==============================] - 60s 4ms/sample - loss: 5.8322 - acc: 0.0460\n",
            "Epoch 10/100\n",
            "15462/15462 [==============================] - 60s 4ms/sample - loss: 5.7288 - acc: 0.0541\n",
            "Epoch 11/100\n",
            "15462/15462 [==============================] - 61s 4ms/sample - loss: 5.6180 - acc: 0.0587\n",
            "Epoch 12/100\n",
            "15462/15462 [==============================] - 61s 4ms/sample - loss: 5.5091 - acc: 0.0683\n",
            "Epoch 13/100\n",
            "15462/15462 [==============================] - 60s 4ms/sample - loss: 5.3956 - acc: 0.0746\n",
            "Epoch 14/100\n",
            "15462/15462 [==============================] - 59s 4ms/sample - loss: 5.2788 - acc: 0.0818\n",
            "Epoch 15/100\n",
            "15462/15462 [==============================] - 60s 4ms/sample - loss: 5.1724 - acc: 0.0899\n",
            "Epoch 16/100\n",
            "15462/15462 [==============================] - 60s 4ms/sample - loss: 5.0591 - acc: 0.1000\n",
            "Epoch 17/100\n",
            "15462/15462 [==============================] - 60s 4ms/sample - loss: 4.9478 - acc: 0.1056\n",
            "Epoch 18/100\n",
            "15462/15462 [==============================] - 60s 4ms/sample - loss: 4.8427 - acc: 0.1153\n",
            "Epoch 19/100\n",
            "15462/15462 [==============================] - 61s 4ms/sample - loss: 4.7339 - acc: 0.1255\n",
            "Epoch 20/100\n",
            "15462/15462 [==============================] - 60s 4ms/sample - loss: 4.6271 - acc: 0.1354\n",
            "Epoch 21/100\n",
            "15462/15462 [==============================] - 61s 4ms/sample - loss: 4.5222 - acc: 0.1473\n",
            "Epoch 22/100\n",
            "15462/15462 [==============================] - 60s 4ms/sample - loss: 4.4167 - acc: 0.1582\n",
            "Epoch 23/100\n",
            "15462/15462 [==============================] - 59s 4ms/sample - loss: 4.3040 - acc: 0.1721\n",
            "Epoch 24/100\n",
            "15462/15462 [==============================] - 59s 4ms/sample - loss: 4.2117 - acc: 0.1834\n",
            "Epoch 25/100\n",
            "15462/15462 [==============================] - 59s 4ms/sample - loss: 4.0993 - acc: 0.1956\n",
            "Epoch 26/100\n",
            "15462/15462 [==============================] - 60s 4ms/sample - loss: 3.9928 - acc: 0.2139\n",
            "Epoch 27/100\n",
            "15462/15462 [==============================] - 60s 4ms/sample - loss: 3.8902 - acc: 0.2273\n",
            "Epoch 28/100\n",
            "15462/15462 [==============================] - 43s 3ms/sample - loss: 3.7923 - acc: 0.2417\n",
            "Epoch 29/100\n",
            "15462/15462 [==============================] - 37s 2ms/sample - loss: 3.6910 - acc: 0.2579\n",
            "Epoch 30/100\n",
            "15462/15462 [==============================] - 37s 2ms/sample - loss: 3.5912 - acc: 0.2840\n",
            "Epoch 31/100\n",
            "15462/15462 [==============================] - 37s 2ms/sample - loss: 3.4980 - acc: 0.3033\n",
            "Epoch 32/100\n",
            "15462/15462 [==============================] - 37s 2ms/sample - loss: 3.4019 - acc: 0.3164\n",
            "Epoch 33/100\n",
            "15462/15462 [==============================] - 37s 2ms/sample - loss: 3.3086 - acc: 0.3406\n",
            "Epoch 34/100\n",
            "15462/15462 [==============================] - 37s 2ms/sample - loss: 3.2159 - acc: 0.3591\n",
            "Epoch 35/100\n",
            "15462/15462 [==============================] - 37s 2ms/sample - loss: 3.1375 - acc: 0.3754\n",
            "Epoch 36/100\n",
            "15462/15462 [==============================] - 37s 2ms/sample - loss: 3.0439 - acc: 0.4018\n",
            "Epoch 37/100\n",
            "15462/15462 [==============================] - 37s 2ms/sample - loss: 2.9672 - acc: 0.4206\n",
            "Epoch 38/100\n",
            "15462/15462 [==============================] - 37s 2ms/sample - loss: 2.8889 - acc: 0.4324\n",
            "Epoch 39/100\n",
            "15462/15462 [==============================] - 37s 2ms/sample - loss: 2.8167 - acc: 0.4552\n",
            "Epoch 40/100\n",
            "15462/15462 [==============================] - 37s 2ms/sample - loss: 2.7385 - acc: 0.4689\n",
            "Epoch 41/100\n",
            "15462/15462 [==============================] - 37s 2ms/sample - loss: 2.6787 - acc: 0.4869\n",
            "Epoch 42/100\n",
            "15462/15462 [==============================] - 37s 2ms/sample - loss: 2.5991 - acc: 0.5015\n",
            "Epoch 43/100\n",
            "15462/15462 [==============================] - 37s 2ms/sample - loss: 2.5481 - acc: 0.5186\n",
            "Epoch 44/100\n",
            "15462/15462 [==============================] - 37s 2ms/sample - loss: 2.4915 - acc: 0.5292\n",
            "Epoch 45/100\n",
            "15462/15462 [==============================] - 38s 2ms/sample - loss: 2.4229 - acc: 0.5444\n",
            "Epoch 46/100\n",
            "15462/15462 [==============================] - 38s 2ms/sample - loss: 2.3708 - acc: 0.5558\n",
            "Epoch 47/100\n",
            "15462/15462 [==============================] - 38s 2ms/sample - loss: 2.3117 - acc: 0.5723\n",
            "Epoch 48/100\n",
            "15462/15462 [==============================] - 39s 2ms/sample - loss: 2.2596 - acc: 0.5845\n",
            "Epoch 49/100\n",
            "15462/15462 [==============================] - 40s 3ms/sample - loss: 2.2154 - acc: 0.5917\n",
            "Epoch 50/100\n",
            "15462/15462 [==============================] - 40s 3ms/sample - loss: 2.1843 - acc: 0.5975\n",
            "Epoch 51/100\n",
            "15462/15462 [==============================] - 40s 3ms/sample - loss: 2.1270 - acc: 0.6095\n",
            "Epoch 52/100\n",
            "15462/15462 [==============================] - 40s 3ms/sample - loss: 2.0651 - acc: 0.6219\n",
            "Epoch 53/100\n",
            "15462/15462 [==============================] - 39s 3ms/sample - loss: 2.0356 - acc: 0.6315\n",
            "Epoch 54/100\n",
            "15462/15462 [==============================] - 40s 3ms/sample - loss: 1.9967 - acc: 0.6405\n",
            "Epoch 55/100\n",
            "15462/15462 [==============================] - 40s 3ms/sample - loss: 1.9447 - acc: 0.6511\n",
            "Epoch 56/100\n",
            "15462/15462 [==============================] - 40s 3ms/sample - loss: 1.9195 - acc: 0.6552\n",
            "Epoch 57/100\n",
            "15462/15462 [==============================] - 46s 3ms/sample - loss: 1.8894 - acc: 0.6643\n",
            "Epoch 58/100\n",
            "15462/15462 [==============================] - 63s 4ms/sample - loss: 1.8577 - acc: 0.6678\n",
            "Epoch 59/100\n",
            "15462/15462 [==============================] - 63s 4ms/sample - loss: 1.8239 - acc: 0.6740\n",
            "Epoch 60/100\n",
            "15462/15462 [==============================] - 62s 4ms/sample - loss: 1.7830 - acc: 0.6845\n",
            "Epoch 61/100\n",
            "15462/15462 [==============================] - 62s 4ms/sample - loss: 1.7631 - acc: 0.6877\n",
            "Epoch 62/100\n",
            "15462/15462 [==============================] - 62s 4ms/sample - loss: 1.7201 - acc: 0.6999\n",
            "Epoch 63/100\n",
            "15462/15462 [==============================] - 61s 4ms/sample - loss: 1.6964 - acc: 0.7016\n",
            "Epoch 64/100\n",
            "15462/15462 [==============================] - 61s 4ms/sample - loss: 1.6719 - acc: 0.7061\n",
            "Epoch 65/100\n",
            "15462/15462 [==============================] - 61s 4ms/sample - loss: 1.6344 - acc: 0.7128\n",
            "Epoch 66/100\n",
            "15462/15462 [==============================] - 61s 4ms/sample - loss: 1.6078 - acc: 0.7189\n",
            "Epoch 67/100\n",
            "15462/15462 [==============================] - 61s 4ms/sample - loss: 1.5839 - acc: 0.7305\n",
            "Epoch 68/100\n",
            "15462/15462 [==============================] - 62s 4ms/sample - loss: 1.5610 - acc: 0.7347\n",
            "Epoch 69/100\n",
            "15462/15462 [==============================] - 61s 4ms/sample - loss: 1.5461 - acc: 0.7326\n",
            "Epoch 70/100\n",
            "15462/15462 [==============================] - 61s 4ms/sample - loss: 1.5246 - acc: 0.7368\n",
            "Epoch 71/100\n",
            "15462/15462 [==============================] - 61s 4ms/sample - loss: 1.4880 - acc: 0.7445\n",
            "Epoch 72/100\n",
            "15462/15462 [==============================] - 60s 4ms/sample - loss: 1.4685 - acc: 0.7474\n",
            "Epoch 73/100\n",
            "15462/15462 [==============================] - 60s 4ms/sample - loss: 1.4446 - acc: 0.7531\n",
            "Epoch 74/100\n",
            "15462/15462 [==============================] - 60s 4ms/sample - loss: 1.4389 - acc: 0.7518\n",
            "Epoch 75/100\n",
            "15462/15462 [==============================] - 60s 4ms/sample - loss: 1.4235 - acc: 0.7543\n",
            "Epoch 76/100\n",
            "15462/15462 [==============================] - 60s 4ms/sample - loss: 1.4121 - acc: 0.7592\n",
            "Epoch 77/100\n",
            "15462/15462 [==============================] - 59s 4ms/sample - loss: 1.3682 - acc: 0.7692\n",
            "Epoch 78/100\n",
            "15462/15462 [==============================] - 59s 4ms/sample - loss: 1.3570 - acc: 0.7696\n",
            "Epoch 79/100\n",
            "15462/15462 [==============================] - 61s 4ms/sample - loss: 1.3418 - acc: 0.7716\n",
            "Epoch 80/100\n",
            "15462/15462 [==============================] - 60s 4ms/sample - loss: 1.3335 - acc: 0.7689\n",
            "Epoch 81/100\n",
            "15462/15462 [==============================] - 60s 4ms/sample - loss: 1.3180 - acc: 0.7745\n",
            "Epoch 82/100\n",
            "15462/15462 [==============================] - 58s 4ms/sample - loss: 1.3041 - acc: 0.7782\n",
            "Epoch 83/100\n",
            "15462/15462 [==============================] - 58s 4ms/sample - loss: 1.2989 - acc: 0.7763\n",
            "Epoch 84/100\n",
            "15462/15462 [==============================] - 59s 4ms/sample - loss: 1.2778 - acc: 0.7810\n",
            "Epoch 85/100\n",
            "15462/15462 [==============================] - 58s 4ms/sample - loss: 1.2499 - acc: 0.7899\n",
            "Epoch 86/100\n",
            "15462/15462 [==============================] - 58s 4ms/sample - loss: 1.2407 - acc: 0.7889\n",
            "Epoch 87/100\n",
            "15462/15462 [==============================] - 59s 4ms/sample - loss: 1.2381 - acc: 0.7899\n",
            "Epoch 88/100\n",
            "15462/15462 [==============================] - 58s 4ms/sample - loss: 1.2202 - acc: 0.7895\n",
            "Epoch 89/100\n",
            "15462/15462 [==============================] - 58s 4ms/sample - loss: 1.2156 - acc: 0.7900\n",
            "Epoch 90/100\n",
            "15462/15462 [==============================] - 58s 4ms/sample - loss: 1.2030 - acc: 0.7930\n",
            "Epoch 91/100\n",
            "15462/15462 [==============================] - 59s 4ms/sample - loss: 1.1879 - acc: 0.7927\n",
            "Epoch 92/100\n",
            "15462/15462 [==============================] - 58s 4ms/sample - loss: 1.1823 - acc: 0.7972\n",
            "Epoch 93/100\n",
            "15462/15462 [==============================] - 58s 4ms/sample - loss: 1.1747 - acc: 0.7952\n",
            "Epoch 94/100\n",
            "15462/15462 [==============================] - 58s 4ms/sample - loss: 1.1593 - acc: 0.8011\n",
            "Epoch 95/100\n",
            "15462/15462 [==============================] - 58s 4ms/sample - loss: 1.1391 - acc: 0.8022\n",
            "Epoch 96/100\n",
            "15462/15462 [==============================] - 58s 4ms/sample - loss: 1.1260 - acc: 0.8062\n",
            "Epoch 97/100\n",
            "15462/15462 [==============================] - 58s 4ms/sample - loss: 1.1349 - acc: 0.8033\n",
            "Epoch 98/100\n",
            "15462/15462 [==============================] - 58s 4ms/sample - loss: 1.1215 - acc: 0.8066\n",
            "Epoch 99/100\n",
            "15462/15462 [==============================] - 58s 4ms/sample - loss: 1.1164 - acc: 0.8062\n",
            "Epoch 100/100\n",
            "15462/15462 [==============================] - 58s 4ms/sample - loss: 1.1043 - acc: 0.8086\n"
          ],
          "name": "stdout"
        }
      ]
    },
    {
      "cell_type": "code",
      "metadata": {
        "id": "1fXTEO3GJ282",
        "colab_type": "code",
        "colab": {
          "base_uri": "https://localhost:8080/",
          "height": 545
        },
        "outputId": "fc7a16ad-81f6-460b-9d7a-86ce7c2898b7"
      },
      "source": [
        "import matplotlib.pyplot as plt\n",
        "acc = history.history['acc']\n",
        "loss = history.history['loss']\n",
        "\n",
        "epochs = range(len(acc))\n",
        "\n",
        "plt.plot(epochs, acc, 'b', label='Training accuracy')\n",
        "plt.title('Training accuracy')\n",
        "\n",
        "plt.figure()\n",
        "\n",
        "plt.plot(epochs, loss, 'b', label='Training Loss')\n",
        "plt.title('Training loss')\n",
        "plt.legend()\n",
        "\n",
        "plt.show()"
      ],
      "execution_count": 7,
      "outputs": [
        {
          "output_type": "display_data",
          "data": {
            "image/png": "[encoded data removed]",
            "text/plain": [
              "<Figure size 432x288 with 1 Axes>"
            ]
          },
          "metadata": {
            "tags": []
          }
        },
        {
          "output_type": "display_data",
          "data": {
            "image/png": "[encoded data removed]",
            "text/plain": [
              "<Figure size 432x288 with 1 Axes>"
            ]
          },
          "metadata": {
            "tags": []
          }
        }
      ]
    },
    {
      "cell_type": "code",
      "metadata": {
        "id": "6Vc6PHgxa6Hm",
        "colab_type": "code",
        "colab": {
          "base_uri": "https://localhost:8080/",
          "height": 54
        },
        "outputId": "bfbf2a58-08c8-4bd9-e66a-87275a974dc1"
      },
      "source": [
        "seed_text = \"Help me Obi Wan Kenobi, you're my only hope\"\n",
        "next_words = 100\n",
        "  \n",
        "for _ in range(next_words):\n",
        "\ttoken_list = tokenizer.texts_to_sequences([seed_text])[0]\n",
        "\ttoken_list = pad_sequences([token_list], maxlen=max_sequence_len-1, padding='pre')\n",
        "\tpredicted = model.predict_classes(token_list, verbose=0)\n",
        "\toutput_word = \"\"\n",
        "  \n",
        "\tfor word, index in tokenizer.word_index.items():\n",
        "\t\tif index == predicted:\n",
        "\t\t\toutput_word = word\n",
        "\t\t\tbreak\n",
        "      \n",
        "\tseed_text += \" \" + output_word\n",
        "  \n",
        "print(seed_text)"
      ],
      "execution_count": 8,
      "outputs": [
        {
          "output_type": "stream",
          "text": [
            "Help me Obi Wan Kenobi, you're my only hope with nature's music staineth staineth mother mad decrease parts away away away thee young away bright still seem such more bright new strong small mind thus each state new cold cold torn torn taken acquainted brought to give ride flow gone away away away thee so should your rhyme shall tend tend brought to light wrong faith torn torn torn making defaced place dearly wrong night care there delight lives common stand cold shade away away his loss away out care her blushing stand mother mother open painted perceived night new wrong night young sight quite stand sang of hide\n"
          ],
          "name": "stdout"
        }
      ]
    }
  ]
}