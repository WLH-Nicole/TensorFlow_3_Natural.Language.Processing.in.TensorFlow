{
  "nbformat": 4,
  "nbformat_minor": 0,
  "metadata": {
    "colab": {
      "name": "W3 - Exploring overfitting in NLP - WLH.ipynb",
      "version": "0.3.2",
      "provenance": [],
      "collapsed_sections": []
    },
    "kernelspec": {
      "name": "python3",
      "display_name": "Python 3"
    },
    "accelerator": "GPU"
  },
  "cells": [
    {
      "cell_type": "code",
      "metadata": {
        "id": "hmA6EzkQJ5jt",
        "colab_type": "code",
        "colab": {}
      },
      "source": [
        "import json\n",
        "import tensorflow as tf\n",
        "import csv\n",
        "import random\n",
        "import numpy as np\n",
        "\n",
        "from tensorflow.keras.preprocessing.text import Tokenizer\n",
        "from tensorflow.keras.preprocessing.sequence import pad_sequences\n",
        "from tensorflow.keras.utils import to_categorical\n",
        "from tensorflow.keras import regularizers\n",
        "\n",
        "\n",
        "embedding_dim = 100\n",
        "max_length = 16\n",
        "trunc_type='post'\n",
        "padding_type='post'\n",
        "oov_tok = \"<OOV>\"\n",
        "# Your dataset size here. Experiment using smaller values (i.e. 16000), \n",
        "# but don't forget to train on at least 160000 to see the best effects\n",
        "\n",
        "training_size= 160000\n",
        "test_portion=.1      # testing : 10 % \n",
        "\n",
        "corpus = []\n"
      ],
      "execution_count": 0,
      "outputs": []
    },
    {
      "cell_type": "code",
      "metadata": {
        "id": "bM0l_dORKqE0",
        "colab_type": "code",
        "outputId": "e7c34b69-7827-4d77-f77d-7312214f20fd",
        "colab": {
          "base_uri": "https://localhost:8080/",
          "height": 204
        }
      },
      "source": [
        "\n",
        "# Note that I cleaned the Stanford dataset to remove LATIN1 encoding to make it easier for Python CSV reader\n",
        "# You can do that yourself with:\n",
        "# iconv -f LATIN1 -t UTF8 training.1600000.processed.noemoticon.csv -o training_cleaned.csv\n",
        "# I then hosted it on my site to make it easier to use in this notebook\n",
        "\n",
        "!wget --no-check-certificate \\\n",
        "    https://storage.googleapis.com/laurencemoroney-blog.appspot.com/training_cleaned.csv \\\n",
        "    -O /tmp/training_cleaned.csv\n",
        "\n",
        "num_sentences = 0\n",
        "\n",
        "with open(\"/tmp/training_cleaned.csv\") as csvfile:\n",
        "    reader = csv.reader(csvfile, delimiter=',')\n",
        "\n",
        "      # Your Code here. Create list items where the first item is the text, found in row[5], \n",
        "      # and the second is the label. Note that the label is a '0' or a '4' in the text. \n",
        "      # When it's the former, make your label to be 0, otherwise 1. \n",
        "      # Keep a count of the number of sentences in num_sentences\n",
        "    \n",
        "    for row in reader:\n",
        "        list_item=[]\n",
        "        list_item.append(row[5])\n",
        "        Stanford_label = row[0]\n",
        "        \n",
        "        if Stanford_label == '0':\n",
        "          list_item.append(0)\n",
        "          \n",
        "        else:\n",
        "          list_item.append(1)\n",
        "\n",
        "          \n",
        "        num_sentences = num_sentences + 1\n",
        "        corpus.append(list_item)\n",
        "\n",
        "\n"
      ],
      "execution_count": 2,
      "outputs": [
        {
          "output_type": "stream",
          "text": [
            "--2019-07-10 05:16:33--  https://storage.googleapis.com/laurencemoroney-blog.appspot.com/training_cleaned.csv\n",
            "Resolving storage.googleapis.com (storage.googleapis.com)... 74.125.204.128, 2404:6800:4008:c04::80\n",
            "Connecting to storage.googleapis.com (storage.googleapis.com)|74.125.204.128|:443... connected.\n",
            "HTTP request sent, awaiting response... 200 OK\n",
            "Length: 238942690 (228M) [application/octet-stream]\n",
            "Saving to: ‘/tmp/training_cleaned.csv’\n",
            "\n",
            "/tmp/training_clean 100%[===================>] 227.87M  76.5MB/s    in 3.0s    \n",
            "\n",
            "2019-07-10 05:16:37 (76.5 MB/s) - ‘/tmp/training_cleaned.csv’ saved [238942690/238942690]\n",
            "\n"
          ],
          "name": "stdout"
        }
      ]
    },
    {
      "cell_type": "code",
      "metadata": {
        "id": "3kxblBUjEUX-",
        "colab_type": "code",
        "outputId": "a2270b48-2e1b-411f-8021-4e23b40e3be5",
        "colab": {
          "base_uri": "https://localhost:8080/",
          "height": 88
        }
      },
      "source": [
        "print(num_sentences)\n",
        "print(len(corpus))\n",
        "print(corpus[1])\n",
        "\n",
        "# Expected Output:\n",
        "# 1600000\n",
        "# 1600000\n",
        "# [\"is upset that he can't update his Facebook by texting it... and might cry as a result  School today also. Blah!\", 0]"
      ],
      "execution_count": 3,
      "outputs": [
        {
          "output_type": "stream",
          "text": [
            "1600000\n",
            "1600000\n",
            "[\"is upset that he can't update his Facebook by texting it... and might cry as a result  School today also. Blah!\", 0]\n"
          ],
          "name": "stdout"
        }
      ]
    },
    {
      "cell_type": "code",
      "metadata": {
        "id": "ohOGz24lsNAD",
        "colab_type": "code",
        "colab": {}
      },
      "source": [
        "sentences=[]\n",
        "labels=[]\n",
        "random.shuffle(corpus)\n",
        "for x in range(training_size):\n",
        "    sentences.append(corpus[x][0])\n",
        "    labels.append(corpus[x][1])\n",
        "\n",
        "\n",
        "tokenizer = Tokenizer()\n",
        "tokenizer.fit_on_texts(sentences)\n",
        "\n",
        "word_index = tokenizer.word_index\n",
        "vocab_size = len(word_index)\n",
        "\n",
        "sequences = tokenizer.texts_to_sequences(sentences)\n",
        "padded    = pad_sequences(sequences, padding = padding_type, truncating = trunc_type, maxlen = max_length)\n",
        "\n",
        "split = int(test_portion * training_size)\n",
        "\n",
        "test_sequences     = padded[0: split]\n",
        "training_sequences = padded[split: training_size]\n",
        "test_labels        = labels[0: split]\n",
        "training_labels    = labels[split: training_size]"
      ],
      "execution_count": 0,
      "outputs": []
    },
    {
      "cell_type": "code",
      "metadata": {
        "id": "gIrtRem1En3N",
        "colab_type": "code",
        "outputId": "b9769e91-bbea-46d0-e500-06f3498b164b",
        "colab": {
          "base_uri": "https://localhost:8080/",
          "height": 51
        }
      },
      "source": [
        "print(vocab_size)\n",
        "print(word_index['i'])\n",
        "# Expected Output\n",
        "# 138858\n",
        "# 1"
      ],
      "execution_count": 11,
      "outputs": [
        {
          "output_type": "stream",
          "text": [
            "139006\n",
            "1\n"
          ],
          "name": "stdout"
        }
      ]
    },
    {
      "cell_type": "code",
      "metadata": {
        "id": "C1zdgJkusRh0",
        "colab_type": "code",
        "outputId": "56a8d503-fef8-417a-8f8c-248c7fb8b3f6",
        "colab": {
          "base_uri": "https://localhost:8080/",
          "height": 204
        }
      },
      "source": [
        "# Note this is the 100 dimension version of GloVe from Stanford\n",
        "# I unzipped and hosted it on my site to make this notebook easier\n",
        "!wget --no-check-certificate \\\n",
        "    https://storage.googleapis.com/laurencemoroney-blog.appspot.com/glove.6B.100d.txt \\\n",
        "    -O /tmp/glove.6B.100d.txt\n",
        "embeddings_index = {};\n",
        "with open('/tmp/glove.6B.100d.txt') as f:\n",
        "    for line in f:\n",
        "        values = line.split();\n",
        "        word   = values[0];\n",
        "        coefs  = np.asarray(values[1:], dtype='float32');\n",
        "        embeddings_index[word] = coefs;\n",
        "\n",
        "embeddings_matrix = np.zeros((vocab_size+1, embedding_dim));\n",
        "for word, i in word_index.items():\n",
        "    embedding_vector = embeddings_index.get(word);\n",
        "    if embedding_vector is not None:\n",
        "        embeddings_matrix[i] = embedding_vector;"
      ],
      "execution_count": 12,
      "outputs": [
        {
          "output_type": "stream",
          "text": [
            "--2019-07-10 05:19:01--  https://storage.googleapis.com/laurencemoroney-blog.appspot.com/glove.6B.100d.txt\n",
            "Resolving storage.googleapis.com (storage.googleapis.com)... 74.125.204.128, 2404:6800:4008:c04::80\n",
            "Connecting to storage.googleapis.com (storage.googleapis.com)|74.125.204.128|:443... connected.\n",
            "HTTP request sent, awaiting response... 200 OK\n",
            "Length: 347116733 (331M) [text/plain]\n",
            "Saving to: ‘/tmp/glove.6B.100d.txt’\n",
            "\n",
            "/tmp/glove.6B.100d. 100%[===================>] 331.04M  88.1MB/s    in 3.8s    \n",
            "\n",
            "2019-07-10 05:19:06 (88.1 MB/s) - ‘/tmp/glove.6B.100d.txt’ saved [347116733/347116733]\n",
            "\n"
          ],
          "name": "stdout"
        }
      ]
    },
    {
      "cell_type": "code",
      "metadata": {
        "id": "71NLk_lpFLNt",
        "colab_type": "code",
        "outputId": "d4466fd6-017e-45a2-d1f3-41cf0dd60e0e",
        "colab": {
          "base_uri": "https://localhost:8080/",
          "height": 34
        }
      },
      "source": [
        "print(len(embeddings_matrix))    # vocab_size + 1 = 139006 + 1 = 139007\n",
        "# Expected Output\n",
        "# 138859"
      ],
      "execution_count": 13,
      "outputs": [
        {
          "output_type": "stream",
          "text": [
            "139007\n"
          ],
          "name": "stdout"
        }
      ]
    },
    {
      "cell_type": "code",
      "metadata": {
        "id": "QVkDrnU6G1f3",
        "colab_type": "code",
        "outputId": "456e47aa-7c5f-4976-f602-3313298f742f",
        "colab": {
          "base_uri": "https://localhost:8080/",
          "height": 731
        }
      },
      "source": [
        "# 10 epochs\n",
        "\n",
        "model = tf.keras.Sequential([\n",
        "    tf.keras.layers.Embedding(vocab_size+1, embedding_dim, input_length=max_length, weights=[embeddings_matrix], trainable=False),\n",
        "    # YOUR CODE HERE - experiment with combining different types, such as convolutions and LSTMs\n",
        "    tf.keras.layers.Dropout(0.2),\n",
        "    tf.keras.layers.Conv1D(64, 5, activation = 'relu'),\n",
        "    tf.keras.layers.MaxPooling1D(pool_size = 4),\n",
        "    tf.keras.layers.LSTM(64),\n",
        "    tf.keras.layers.Dense(1, activation = 'sigmoid')\n",
        "])\n",
        "model.compile(loss = 'binary_crossentropy', optimizer = 'adam', metrics = ['accuracy'])\n",
        "model.summary()\n",
        "\n",
        "num_epochs = 10\n",
        "history = model.fit(training_sequences, training_labels, epochs=num_epochs, validation_data=(test_sequences, test_labels), verbose=2)\n",
        "\n",
        "print(\"Training Complete\")"
      ],
      "execution_count": 17,
      "outputs": [
        {
          "output_type": "stream",
          "text": [
            "Model: \"sequential_3\"\n",
            "_________________________________________________________________\n",
            "Layer (type)                 Output Shape              Param #   \n",
            "=================================================================\n",
            "embedding_3 (Embedding)      (None, 16, 100)           13900700  \n",
            "_________________________________________________________________\n",
            "dropout_3 (Dropout)          (None, 16, 100)           0         \n",
            "_________________________________________________________________\n",
            "conv1d_3 (Conv1D)            (None, 12, 64)            32064     \n",
            "_________________________________________________________________\n",
            "max_pooling1d_3 (MaxPooling1 (None, 3, 64)             0         \n",
            "_________________________________________________________________\n",
            "lstm_3 (LSTM)                (None, 64)                33024     \n",
            "_________________________________________________________________\n",
            "dense_3 (Dense)              (None, 1)                 65        \n",
            "=================================================================\n",
            "Total params: 13,965,853\n",
            "Trainable params: 65,153\n",
            "Non-trainable params: 13,900,700\n",
            "_________________________________________________________________\n",
            "Train on 144000 samples, validate on 16000 samples\n",
            "Epoch 1/10\n",
            "144000/144000 - 54s - loss: 0.5673 - acc: 0.6993 - val_loss: 0.5313 - val_acc: 0.7292\n",
            "Epoch 2/10\n",
            "144000/144000 - 53s - loss: 0.5276 - acc: 0.7313 - val_loss: 0.5154 - val_acc: 0.7432\n",
            "Epoch 3/10\n",
            "144000/144000 - 53s - loss: 0.5119 - acc: 0.7431 - val_loss: 0.5118 - val_acc: 0.7417\n",
            "Epoch 4/10\n",
            "144000/144000 - 53s - loss: 0.4997 - acc: 0.7516 - val_loss: 0.5045 - val_acc: 0.7480\n",
            "Epoch 5/10\n",
            "144000/144000 - 53s - loss: 0.4911 - acc: 0.7581 - val_loss: 0.5023 - val_acc: 0.7502\n",
            "Epoch 6/10\n",
            "144000/144000 - 53s - loss: 0.4838 - acc: 0.7632 - val_loss: 0.4998 - val_acc: 0.7512\n",
            "Epoch 7/10\n",
            "144000/144000 - 53s - loss: 0.4784 - acc: 0.7663 - val_loss: 0.5013 - val_acc: 0.7551\n",
            "Epoch 8/10\n",
            "144000/144000 - 53s - loss: 0.4725 - acc: 0.7704 - val_loss: 0.5016 - val_acc: 0.7518\n",
            "Epoch 9/10\n",
            "144000/144000 - 53s - loss: 0.4694 - acc: 0.7720 - val_loss: 0.4991 - val_acc: 0.7526\n",
            "Epoch 10/10\n",
            "144000/144000 - 53s - loss: 0.4652 - acc: 0.7749 - val_loss: 0.5020 - val_acc: 0.7521\n",
            "Training Complete\n"
          ],
          "name": "stdout"
        }
      ]
    },
    {
      "cell_type": "code",
      "metadata": {
        "id": "t7ctPUjDKtGv",
        "colab_type": "code",
        "outputId": "4ef17e17-a0c9-42d9-8ec5-a66c8815681a",
        "colab": {
          "base_uri": "https://localhost:8080/",
          "height": 607
        }
      },
      "source": [
        "# plot 10 epochs\n",
        "\n",
        "import matplotlib.image  as mpimg\n",
        "import matplotlib.pyplot as plt\n",
        "\n",
        "#-----------------------------------------------------------\n",
        "# Retrieve a list of list results on training and test data\n",
        "# sets for each training epoch\n",
        "#-----------------------------------------------------------\n",
        "acc=history.history['acc']\n",
        "val_acc=history.history['val_acc']\n",
        "loss=history.history['loss']\n",
        "val_loss=history.history['val_loss']\n",
        "\n",
        "epochs=range(len(acc)) # Get number of epochs\n",
        "\n",
        "#------------------------------------------------\n",
        "# Plot training and validation accuracy per epoch\n",
        "#------------------------------------------------\n",
        "plt.plot(epochs, acc, 'r')\n",
        "plt.plot(epochs, val_acc, 'b')\n",
        "plt.title('Training and validation accuracy - 10 epochs')\n",
        "plt.xlabel(\"Epochs\")\n",
        "plt.ylabel(\"Accuracy\")\n",
        "plt.legend([\"Accuracy\", \"Validation Accuracy\"])\n",
        "\n",
        "plt.figure()\n",
        "\n",
        "#------------------------------------------------\n",
        "# Plot training and validation loss per epoch\n",
        "#------------------------------------------------\n",
        "plt.plot(epochs, loss, 'r')\n",
        "plt.plot(epochs, val_loss, 'b')\n",
        "plt.title('Training and validation loss - 10 epochs')\n",
        "plt.xlabel(\"Epochs\")\n",
        "plt.ylabel(\"Loss\")\n",
        "plt.legend([\"Loss\", \"Validation Loss\"])\n",
        "\n",
        "plt.figure()\n",
        "\n",
        "\n",
        "# Expected Output\n",
        "# A chart where the validation loss does not increase sharply!"
      ],
      "execution_count": 19,
      "outputs": [
        {
          "output_type": "execute_result",
          "data": {
            "text/plain": [
              "<Figure size 432x288 with 0 Axes>"
            ]
          },
          "metadata": {
            "tags": []
          },
          "execution_count": 19
        },
        {
          "output_type": "display_data",
          "data": {
            "image/png": "[encoded data removed]",
            "text/plain": [
              "<Figure size 432x288 with 1 Axes>"
            ]
          },
          "metadata": {
            "tags": []
          }
        },
        {
          "output_type": "display_data",
          "data": {
            "image/png": "[encoded data removed]",
            "text/plain": [
              "<Figure size 432x288 with 1 Axes>"
            ]
          },
          "metadata": {
            "tags": []
          }
        },
        {
          "output_type": "display_data",
          "data": {
            "text/plain": [
              "<Figure size 432x288 with 0 Axes>"
            ]
          },
          "metadata": {
            "tags": []
          }
        }
      ]
    },
    {
      "cell_type": "code",
      "metadata": {
        "colab_type": "code",
        "id": "iKKvbuEBOGFz",
        "outputId": "e68aff92-94e1-4c59-957e-7d752eb444b0",
        "colab": {
          "base_uri": "https://localhost:8080/",
          "height": 1000
        }
      },
      "source": [
        "# 50 epochs\n",
        "model = tf.keras.Sequential([\n",
        "    tf.keras.layers.Embedding(vocab_size+1, embedding_dim, input_length=max_length, weights=[embeddings_matrix], trainable=False),\n",
        "    # YOUR CODE HERE - experiment with combining different types, such as convolutions and LSTMs\n",
        "    tf.keras.layers.Dropout(0.2),\n",
        "    tf.keras.layers.Conv1D(64, 5, activation = 'relu'),  # 64 filters each for 5 words\n",
        "    tf.keras.layers.MaxPooling1D(pool_size = 4),         \n",
        "    tf.keras.layers.LSTM(64),\n",
        "    tf.keras.layers.Dense(1, activation = 'sigmoid')\n",
        "])\n",
        "model.compile(loss = 'binary_crossentropy', optimizer = 'adam', metrics = ['accuracy'])\n",
        "model.summary()\n",
        "\n",
        "num_epochs = 50\n",
        "history = model.fit(training_sequences, training_labels, epochs=num_epochs, validation_data=(test_sequences, test_labels), verbose=2)\n",
        "\n",
        "print(\"Training Complete\")\n",
        "\n",
        "# As the size of the input was 16 words (max_length = 16), \n",
        "# and a filter that is 5 words long will shave off 2 words from the front and back, leaving us with 12.\n"
      ],
      "execution_count": 20,
      "outputs": [
        {
          "output_type": "stream",
          "text": [
            "Model: \"sequential_4\"\n",
            "_________________________________________________________________\n",
            "Layer (type)                 Output Shape              Param #   \n",
            "=================================================================\n",
            "embedding_4 (Embedding)      (None, 16, 100)           13900700  \n",
            "_________________________________________________________________\n",
            "dropout_4 (Dropout)          (None, 16, 100)           0         \n",
            "_________________________________________________________________\n",
            "conv1d_4 (Conv1D)            (None, 12, 64)            32064     \n",
            "_________________________________________________________________\n",
            "max_pooling1d_4 (MaxPooling1 (None, 3, 64)             0         \n",
            "_________________________________________________________________\n",
            "lstm_4 (LSTM)                (None, 64)                33024     \n",
            "_________________________________________________________________\n",
            "dense_4 (Dense)              (None, 1)                 65        \n",
            "=================================================================\n",
            "Total params: 13,965,853\n",
            "Trainable params: 65,153\n",
            "Non-trainable params: 13,900,700\n",
            "_________________________________________________________________\n",
            "Train on 144000 samples, validate on 16000 samples\n",
            "Epoch 1/50\n",
            "144000/144000 - 54s - loss: 0.5692 - acc: 0.6980 - val_loss: 0.5279 - val_acc: 0.7296\n",
            "Epoch 2/50\n",
            "144000/144000 - 53s - loss: 0.5288 - acc: 0.7314 - val_loss: 0.5155 - val_acc: 0.7408\n",
            "Epoch 3/50\n",
            "144000/144000 - 53s - loss: 0.5107 - acc: 0.7454 - val_loss: 0.5142 - val_acc: 0.7409\n",
            "Epoch 4/50\n",
            "144000/144000 - 53s - loss: 0.5004 - acc: 0.7523 - val_loss: 0.5056 - val_acc: 0.7495\n",
            "Epoch 5/50\n",
            "144000/144000 - 53s - loss: 0.4927 - acc: 0.7566 - val_loss: 0.4994 - val_acc: 0.7543\n",
            "Epoch 6/50\n",
            "144000/144000 - 53s - loss: 0.4853 - acc: 0.7615 - val_loss: 0.5034 - val_acc: 0.7493\n",
            "Epoch 7/50\n",
            "144000/144000 - 53s - loss: 0.4794 - acc: 0.7659 - val_loss: 0.4980 - val_acc: 0.7536\n",
            "Epoch 8/50\n",
            "144000/144000 - 53s - loss: 0.4743 - acc: 0.7692 - val_loss: 0.4991 - val_acc: 0.7517\n",
            "Epoch 9/50\n",
            "144000/144000 - 52s - loss: 0.4714 - acc: 0.7701 - val_loss: 0.5040 - val_acc: 0.7547\n",
            "Epoch 10/50\n",
            "144000/144000 - 53s - loss: 0.4665 - acc: 0.7737 - val_loss: 0.5031 - val_acc: 0.7543\n",
            "Epoch 11/50\n",
            "144000/144000 - 53s - loss: 0.4647 - acc: 0.7736 - val_loss: 0.5034 - val_acc: 0.7563\n",
            "Epoch 12/50\n",
            "144000/144000 - 52s - loss: 0.4612 - acc: 0.7770 - val_loss: 0.5062 - val_acc: 0.7529\n",
            "Epoch 13/50\n",
            "144000/144000 - 52s - loss: 0.4600 - acc: 0.7772 - val_loss: 0.5045 - val_acc: 0.7519\n",
            "Epoch 14/50\n",
            "144000/144000 - 52s - loss: 0.4558 - acc: 0.7797 - val_loss: 0.5099 - val_acc: 0.7524\n",
            "Epoch 15/50\n",
            "144000/144000 - 52s - loss: 0.4550 - acc: 0.7812 - val_loss: 0.5142 - val_acc: 0.7518\n",
            "Epoch 16/50\n",
            "144000/144000 - 52s - loss: 0.4529 - acc: 0.7813 - val_loss: 0.5114 - val_acc: 0.7524\n",
            "Epoch 17/50\n",
            "144000/144000 - 52s - loss: 0.4507 - acc: 0.7828 - val_loss: 0.5149 - val_acc: 0.7504\n",
            "Epoch 18/50\n",
            "144000/144000 - 52s - loss: 0.4500 - acc: 0.7835 - val_loss: 0.5100 - val_acc: 0.7513\n",
            "Epoch 19/50\n",
            "144000/144000 - 52s - loss: 0.4488 - acc: 0.7841 - val_loss: 0.5191 - val_acc: 0.7491\n",
            "Epoch 20/50\n",
            "144000/144000 - 53s - loss: 0.4479 - acc: 0.7842 - val_loss: 0.5120 - val_acc: 0.7526\n",
            "Epoch 21/50\n",
            "144000/144000 - 52s - loss: 0.4453 - acc: 0.7855 - val_loss: 0.5139 - val_acc: 0.7518\n",
            "Epoch 22/50\n",
            "144000/144000 - 53s - loss: 0.4435 - acc: 0.7872 - val_loss: 0.5178 - val_acc: 0.7499\n",
            "Epoch 23/50\n",
            "144000/144000 - 52s - loss: 0.4445 - acc: 0.7862 - val_loss: 0.5147 - val_acc: 0.7486\n",
            "Epoch 24/50\n",
            "144000/144000 - 52s - loss: 0.4435 - acc: 0.7879 - val_loss: 0.5166 - val_acc: 0.7498\n",
            "Epoch 25/50\n",
            "144000/144000 - 52s - loss: 0.4427 - acc: 0.7882 - val_loss: 0.5210 - val_acc: 0.7494\n",
            "Epoch 26/50\n",
            "144000/144000 - 52s - loss: 0.4412 - acc: 0.7888 - val_loss: 0.5149 - val_acc: 0.7486\n",
            "Epoch 27/50\n",
            "144000/144000 - 52s - loss: 0.4410 - acc: 0.7888 - val_loss: 0.5127 - val_acc: 0.7523\n",
            "Epoch 28/50\n",
            "144000/144000 - 52s - loss: 0.4387 - acc: 0.7905 - val_loss: 0.5226 - val_acc: 0.7509\n",
            "Epoch 29/50\n",
            "144000/144000 - 52s - loss: 0.4403 - acc: 0.7892 - val_loss: 0.5199 - val_acc: 0.7489\n",
            "Epoch 30/50\n",
            "144000/144000 - 52s - loss: 0.4384 - acc: 0.7910 - val_loss: 0.5213 - val_acc: 0.7517\n",
            "Epoch 31/50\n",
            "144000/144000 - 52s - loss: 0.4366 - acc: 0.7923 - val_loss: 0.5218 - val_acc: 0.7467\n",
            "Epoch 32/50\n",
            "144000/144000 - 55s - loss: 0.4373 - acc: 0.7916 - val_loss: 0.5186 - val_acc: 0.7483\n",
            "Epoch 33/50\n",
            "144000/144000 - 54s - loss: 0.4376 - acc: 0.7910 - val_loss: 0.5155 - val_acc: 0.7464\n",
            "Epoch 34/50\n",
            "144000/144000 - 89s - loss: 0.4368 - acc: 0.7918 - val_loss: 0.5203 - val_acc: 0.7471\n",
            "Epoch 35/50\n",
            "144000/144000 - 98s - loss: 0.4368 - acc: 0.7915 - val_loss: 0.5176 - val_acc: 0.7469\n",
            "Epoch 36/50\n",
            "144000/144000 - 99s - loss: 0.4356 - acc: 0.7929 - val_loss: 0.5166 - val_acc: 0.7458\n",
            "Epoch 37/50\n",
            "144000/144000 - 98s - loss: 0.4343 - acc: 0.7933 - val_loss: 0.5204 - val_acc: 0.7501\n",
            "Epoch 38/50\n",
            "144000/144000 - 99s - loss: 0.4338 - acc: 0.7940 - val_loss: 0.5232 - val_acc: 0.7476\n",
            "Epoch 39/50\n",
            "144000/144000 - 98s - loss: 0.4360 - acc: 0.7924 - val_loss: 0.5232 - val_acc: 0.7464\n",
            "Epoch 40/50\n",
            "144000/144000 - 98s - loss: 0.4337 - acc: 0.7943 - val_loss: 0.5202 - val_acc: 0.7478\n",
            "Epoch 41/50\n",
            "144000/144000 - 98s - loss: 0.4340 - acc: 0.7936 - val_loss: 0.5208 - val_acc: 0.7491\n",
            "Epoch 42/50\n",
            "144000/144000 - 98s - loss: 0.4332 - acc: 0.7939 - val_loss: 0.5266 - val_acc: 0.7486\n",
            "Epoch 43/50\n",
            "144000/144000 - 98s - loss: 0.4325 - acc: 0.7939 - val_loss: 0.5220 - val_acc: 0.7462\n",
            "Epoch 44/50\n",
            "144000/144000 - 98s - loss: 0.4318 - acc: 0.7946 - val_loss: 0.5283 - val_acc: 0.7482\n",
            "Epoch 45/50\n",
            "144000/144000 - 99s - loss: 0.4326 - acc: 0.7942 - val_loss: 0.5280 - val_acc: 0.7486\n",
            "Epoch 46/50\n",
            "144000/144000 - 98s - loss: 0.4328 - acc: 0.7944 - val_loss: 0.5245 - val_acc: 0.7471\n",
            "Epoch 47/50\n",
            "144000/144000 - 97s - loss: 0.4335 - acc: 0.7938 - val_loss: 0.5205 - val_acc: 0.7469\n",
            "Epoch 48/50\n",
            "144000/144000 - 97s - loss: 0.4333 - acc: 0.7928 - val_loss: 0.5245 - val_acc: 0.7450\n",
            "Epoch 49/50\n",
            "144000/144000 - 97s - loss: 0.4309 - acc: 0.7954 - val_loss: 0.5253 - val_acc: 0.7488\n",
            "Epoch 50/50\n",
            "144000/144000 - 97s - loss: 0.4325 - acc: 0.7944 - val_loss: 0.5232 - val_acc: 0.7494\n",
            "Training Complete\n"
          ],
          "name": "stdout"
        }
      ]
    },
    {
      "cell_type": "code",
      "metadata": {
        "id": "qxju4ItJKO8F",
        "colab_type": "code",
        "outputId": "33801db6-ee3b-4cb3-dde2-c5a0fc322a93",
        "colab": {
          "base_uri": "https://localhost:8080/",
          "height": 607
        }
      },
      "source": [
        "# plot 50 epochs\n",
        "\n",
        "#import matplotlib.image  as mpimg\n",
        "#import matplotlib.pyplot as plt\n",
        "\n",
        "\n",
        "#-----------------------------------------------------------\n",
        "# Retrieve a list of list results on training and test data\n",
        "# sets for each training epoch\n",
        "#-----------------------------------------------------------\n",
        "acc=history.history['acc']\n",
        "val_acc=history.history['val_acc']\n",
        "loss=history.history['loss']\n",
        "val_loss=history.history['val_loss']\n",
        "\n",
        "epochs=range(len(acc)) # Get number of epochs\n",
        "\n",
        "#------------------------------------------------\n",
        "# Plot training and validation accuracy per epoch\n",
        "#------------------------------------------------\n",
        "plt.plot(epochs, acc, 'r')\n",
        "plt.plot(epochs, val_acc, 'b')\n",
        "plt.title('Training and validation accuracy - 50 epochs')\n",
        "plt.xlabel(\"Epochs\")\n",
        "plt.ylabel(\"Accuracy\")\n",
        "plt.legend([\"Accuracy\", \"Validation Accuracy\"])\n",
        "\n",
        "plt.figure()\n",
        "\n",
        "#------------------------------------------------\n",
        "# Plot training and validation loss per epoch\n",
        "#------------------------------------------------\n",
        "plt.plot(epochs, loss, 'r')\n",
        "plt.plot(epochs, val_loss, 'b')\n",
        "plt.title('Training and validation loss - 50 epochs')\n",
        "plt.xlabel(\"Epochs\")\n",
        "plt.ylabel(\"Loss\")\n",
        "plt.legend([\"Loss\", \"Validation Loss\"])\n",
        "\n",
        "plt.figure()\n",
        "\n",
        "\n",
        "# Expected Output\n",
        "# A chart where the validation loss does not increase sharply!"
      ],
      "execution_count": 21,
      "outputs": [
        {
          "output_type": "execute_result",
          "data": {
            "text/plain": [
              "<Figure size 432x288 with 0 Axes>"
            ]
          },
          "metadata": {
            "tags": []
          },
          "execution_count": 21
        },
        {
          "output_type": "display_data",
          "data": {
            "image/png": "[encoded data removed]",
            "text/plain": [
              "<Figure size 432x288 with 1 Axes>"
            ]
          },
          "metadata": {
            "tags": []
          }
        },
        {
          "output_type": "display_data",
          "data": {
            "image/png": "[encoded data removed]",
            "text/plain": [
              "<Figure size 432x288 with 1 Axes>"
            ]
          },
          "metadata": {
            "tags": []
          }
        },
        {
          "output_type": "display_data",
          "data": {
            "text/plain": [
              "<Figure size 432x288 with 0 Axes>"
            ]
          },
          "metadata": {
            "tags": []
          }
        }
      ]
    },
    {
      "cell_type": "code",
      "metadata": {
        "id": "iBrhD8LTKjb9",
        "colab_type": "code",
        "outputId": "17f53271-847b-4f12-8067-a73d956c0f36",
        "colab": {
          "base_uri": "https://localhost:8080/",
          "height": 1000
        }
      },
      "source": [
        "# 90 epochs\n",
        "\n",
        "model = tf.keras.Sequential([\n",
        "    tf.keras.layers.Embedding(vocab_size+1, embedding_dim, input_length=max_length, weights=[embeddings_matrix], trainable=False),\n",
        "    # YOUR CODE HERE - experiment with combining different types, such as convolutions and LSTMs\n",
        "    tf.keras.layers.Dropout(0.2),\n",
        "    tf.keras.layers.Conv1D(64, 5, activation = 'relu'),\n",
        "    tf.keras.layers.MaxPooling1D(pool_size = 4),\n",
        "    tf.keras.layers.LSTM(64),\n",
        "    tf.keras.layers.Dense(1, activation = 'sigmoid')\n",
        "])\n",
        "model.compile(loss = 'binary_crossentropy', optimizer = 'adam', metrics = ['accuracy'])\n",
        "model.summary()\n",
        "\n",
        "num_epochs = 90\n",
        "history = model.fit(training_sequences, training_labels, epochs=num_epochs, validation_data=(test_sequences, test_labels), verbose=2)\n",
        "\n",
        "print(\"Training Complete\")"
      ],
      "execution_count": 22,
      "outputs": [
        {
          "output_type": "stream",
          "text": [
            "Model: \"sequential_5\"\n",
            "_________________________________________________________________\n",
            "Layer (type)                 Output Shape              Param #   \n",
            "=================================================================\n",
            "embedding_5 (Embedding)      (None, 16, 100)           13900700  \n",
            "_________________________________________________________________\n",
            "dropout_5 (Dropout)          (None, 16, 100)           0         \n",
            "_________________________________________________________________\n",
            "conv1d_5 (Conv1D)            (None, 12, 64)            32064     \n",
            "_________________________________________________________________\n",
            "max_pooling1d_5 (MaxPooling1 (None, 3, 64)             0         \n",
            "_________________________________________________________________\n",
            "lstm_5 (LSTM)                (None, 64)                33024     \n",
            "_________________________________________________________________\n",
            "dense_5 (Dense)              (None, 1)                 65        \n",
            "=================================================================\n",
            "Total params: 13,965,853\n",
            "Trainable params: 65,153\n",
            "Non-trainable params: 13,900,700\n",
            "_________________________________________________________________\n",
            "Train on 144000 samples, validate on 16000 samples\n",
            "Epoch 1/90\n",
            "144000/144000 - 102s - loss: 0.5676 - acc: 0.6984 - val_loss: 0.5279 - val_acc: 0.7323\n",
            "Epoch 2/90\n",
            "144000/144000 - 100s - loss: 0.5275 - acc: 0.7299 - val_loss: 0.5130 - val_acc: 0.7445\n",
            "Epoch 3/90\n",
            "144000/144000 - 100s - loss: 0.5117 - acc: 0.7426 - val_loss: 0.5079 - val_acc: 0.7449\n",
            "Epoch 4/90\n",
            "144000/144000 - 99s - loss: 0.5003 - acc: 0.7514 - val_loss: 0.5022 - val_acc: 0.7467\n",
            "Epoch 5/90\n",
            "144000/144000 - 99s - loss: 0.4921 - acc: 0.7574 - val_loss: 0.5026 - val_acc: 0.7499\n",
            "Epoch 6/90\n",
            "144000/144000 - 99s - loss: 0.4850 - acc: 0.7613 - val_loss: 0.5027 - val_acc: 0.7566\n",
            "Epoch 7/90\n",
            "144000/144000 - 98s - loss: 0.4815 - acc: 0.7645 - val_loss: 0.5008 - val_acc: 0.7553\n",
            "Epoch 8/90\n",
            "144000/144000 - 98s - loss: 0.4743 - acc: 0.7686 - val_loss: 0.5030 - val_acc: 0.7514\n",
            "Epoch 9/90\n",
            "144000/144000 - 99s - loss: 0.4703 - acc: 0.7710 - val_loss: 0.5024 - val_acc: 0.7547\n",
            "Epoch 10/90\n",
            "144000/144000 - 98s - loss: 0.4667 - acc: 0.7733 - val_loss: 0.4989 - val_acc: 0.7556\n",
            "Epoch 11/90\n",
            "144000/144000 - 99s - loss: 0.4632 - acc: 0.7752 - val_loss: 0.4998 - val_acc: 0.7536\n",
            "Epoch 12/90\n",
            "144000/144000 - 98s - loss: 0.4603 - acc: 0.7777 - val_loss: 0.5025 - val_acc: 0.7535\n",
            "Epoch 13/90\n",
            "144000/144000 - 98s - loss: 0.4583 - acc: 0.7790 - val_loss: 0.5059 - val_acc: 0.7514\n",
            "Epoch 14/90\n",
            "144000/144000 - 98s - loss: 0.4556 - acc: 0.7797 - val_loss: 0.5109 - val_acc: 0.7521\n",
            "Epoch 15/90\n",
            "144000/144000 - 97s - loss: 0.4522 - acc: 0.7828 - val_loss: 0.5069 - val_acc: 0.7541\n",
            "Epoch 16/90\n",
            "144000/144000 - 97s - loss: 0.4506 - acc: 0.7834 - val_loss: 0.5064 - val_acc: 0.7511\n",
            "Epoch 17/90\n",
            "144000/144000 - 97s - loss: 0.4483 - acc: 0.7854 - val_loss: 0.5147 - val_acc: 0.7509\n",
            "Epoch 18/90\n",
            "144000/144000 - 96s - loss: 0.4474 - acc: 0.7847 - val_loss: 0.5090 - val_acc: 0.7498\n",
            "Epoch 19/90\n",
            "144000/144000 - 96s - loss: 0.4468 - acc: 0.7847 - val_loss: 0.5076 - val_acc: 0.7511\n",
            "Epoch 20/90\n",
            "144000/144000 - 95s - loss: 0.4446 - acc: 0.7871 - val_loss: 0.5107 - val_acc: 0.7542\n",
            "Epoch 21/90\n",
            "144000/144000 - 95s - loss: 0.4438 - acc: 0.7866 - val_loss: 0.5122 - val_acc: 0.7525\n",
            "Epoch 22/90\n",
            "144000/144000 - 95s - loss: 0.4432 - acc: 0.7877 - val_loss: 0.5130 - val_acc: 0.7537\n",
            "Epoch 23/90\n",
            "144000/144000 - 95s - loss: 0.4419 - acc: 0.7877 - val_loss: 0.5161 - val_acc: 0.7503\n",
            "Epoch 24/90\n",
            "144000/144000 - 94s - loss: 0.4406 - acc: 0.7893 - val_loss: 0.5142 - val_acc: 0.7501\n",
            "Epoch 25/90\n",
            "144000/144000 - 96s - loss: 0.4393 - acc: 0.7904 - val_loss: 0.5167 - val_acc: 0.7498\n",
            "Epoch 26/90\n",
            "144000/144000 - 95s - loss: 0.4393 - acc: 0.7900 - val_loss: 0.5094 - val_acc: 0.7500\n",
            "Epoch 27/90\n",
            "144000/144000 - 71s - loss: 0.4384 - acc: 0.7895 - val_loss: 0.5178 - val_acc: 0.7488\n",
            "Epoch 28/90\n",
            "144000/144000 - 50s - loss: 0.4375 - acc: 0.7907 - val_loss: 0.5140 - val_acc: 0.7491\n",
            "Epoch 29/90\n",
            "144000/144000 - 51s - loss: 0.4370 - acc: 0.7912 - val_loss: 0.5176 - val_acc: 0.7480\n",
            "Epoch 30/90\n",
            "144000/144000 - 51s - loss: 0.4355 - acc: 0.7922 - val_loss: 0.5191 - val_acc: 0.7508\n",
            "Epoch 31/90\n",
            "144000/144000 - 51s - loss: 0.4348 - acc: 0.7932 - val_loss: 0.5199 - val_acc: 0.7498\n",
            "Epoch 32/90\n",
            "144000/144000 - 51s - loss: 0.4347 - acc: 0.7934 - val_loss: 0.5189 - val_acc: 0.7490\n",
            "Epoch 33/90\n",
            "144000/144000 - 51s - loss: 0.4337 - acc: 0.7930 - val_loss: 0.5154 - val_acc: 0.7497\n",
            "Epoch 34/90\n",
            "144000/144000 - 51s - loss: 0.4352 - acc: 0.7928 - val_loss: 0.5128 - val_acc: 0.7475\n",
            "Epoch 35/90\n",
            "144000/144000 - 51s - loss: 0.4338 - acc: 0.7931 - val_loss: 0.5172 - val_acc: 0.7485\n",
            "Epoch 36/90\n",
            "144000/144000 - 51s - loss: 0.4333 - acc: 0.7931 - val_loss: 0.5164 - val_acc: 0.7487\n",
            "Epoch 37/90\n",
            "144000/144000 - 50s - loss: 0.4334 - acc: 0.7943 - val_loss: 0.5154 - val_acc: 0.7491\n",
            "Epoch 38/90\n",
            "144000/144000 - 50s - loss: 0.4341 - acc: 0.7944 - val_loss: 0.5260 - val_acc: 0.7466\n",
            "Epoch 39/90\n",
            "144000/144000 - 50s - loss: 0.4316 - acc: 0.7950 - val_loss: 0.5176 - val_acc: 0.7491\n",
            "Epoch 40/90\n",
            "144000/144000 - 50s - loss: 0.4312 - acc: 0.7938 - val_loss: 0.5202 - val_acc: 0.7511\n",
            "Epoch 41/90\n",
            "144000/144000 - 51s - loss: 0.4314 - acc: 0.7957 - val_loss: 0.5255 - val_acc: 0.7461\n",
            "Epoch 42/90\n",
            "144000/144000 - 51s - loss: 0.4317 - acc: 0.7948 - val_loss: 0.5153 - val_acc: 0.7486\n",
            "Epoch 43/90\n",
            "144000/144000 - 51s - loss: 0.4299 - acc: 0.7959 - val_loss: 0.5270 - val_acc: 0.7437\n",
            "Epoch 44/90\n",
            "144000/144000 - 50s - loss: 0.4313 - acc: 0.7944 - val_loss: 0.5195 - val_acc: 0.7484\n",
            "Epoch 45/90\n",
            "144000/144000 - 51s - loss: 0.4314 - acc: 0.7947 - val_loss: 0.5161 - val_acc: 0.7520\n",
            "Epoch 46/90\n",
            "144000/144000 - 51s - loss: 0.4296 - acc: 0.7962 - val_loss: 0.5197 - val_acc: 0.7479\n",
            "Epoch 47/90\n",
            "144000/144000 - 51s - loss: 0.4294 - acc: 0.7956 - val_loss: 0.5201 - val_acc: 0.7472\n",
            "Epoch 48/90\n",
            "144000/144000 - 53s - loss: 0.4302 - acc: 0.7952 - val_loss: 0.5220 - val_acc: 0.7473\n",
            "Epoch 49/90\n",
            "144000/144000 - 50s - loss: 0.4306 - acc: 0.7950 - val_loss: 0.5219 - val_acc: 0.7498\n",
            "Epoch 50/90\n",
            "144000/144000 - 50s - loss: 0.4298 - acc: 0.7969 - val_loss: 0.5189 - val_acc: 0.7487\n",
            "Epoch 51/90\n",
            "144000/144000 - 50s - loss: 0.4304 - acc: 0.7952 - val_loss: 0.5155 - val_acc: 0.7499\n",
            "Epoch 52/90\n",
            "144000/144000 - 50s - loss: 0.4284 - acc: 0.7964 - val_loss: 0.5212 - val_acc: 0.7498\n",
            "Epoch 53/90\n",
            "144000/144000 - 50s - loss: 0.4290 - acc: 0.7969 - val_loss: 0.5192 - val_acc: 0.7495\n",
            "Epoch 54/90\n",
            "144000/144000 - 50s - loss: 0.4286 - acc: 0.7960 - val_loss: 0.5206 - val_acc: 0.7475\n",
            "Epoch 55/90\n",
            "144000/144000 - 50s - loss: 0.4290 - acc: 0.7971 - val_loss: 0.5194 - val_acc: 0.7516\n",
            "Epoch 56/90\n",
            "144000/144000 - 50s - loss: 0.4275 - acc: 0.7981 - val_loss: 0.5259 - val_acc: 0.7454\n",
            "Epoch 57/90\n",
            "144000/144000 - 50s - loss: 0.4275 - acc: 0.7963 - val_loss: 0.5256 - val_acc: 0.7447\n",
            "Epoch 58/90\n",
            "144000/144000 - 50s - loss: 0.4289 - acc: 0.7962 - val_loss: 0.5202 - val_acc: 0.7469\n",
            "Epoch 59/90\n",
            "144000/144000 - 50s - loss: 0.4297 - acc: 0.7962 - val_loss: 0.5223 - val_acc: 0.7426\n",
            "Epoch 60/90\n",
            "144000/144000 - 51s - loss: 0.4287 - acc: 0.7956 - val_loss: 0.5230 - val_acc: 0.7441\n",
            "Epoch 61/90\n",
            "144000/144000 - 50s - loss: 0.4283 - acc: 0.7970 - val_loss: 0.5277 - val_acc: 0.7466\n",
            "Epoch 62/90\n",
            "144000/144000 - 50s - loss: 0.4271 - acc: 0.7986 - val_loss: 0.5293 - val_acc: 0.7428\n",
            "Epoch 63/90\n",
            "144000/144000 - 50s - loss: 0.4276 - acc: 0.7971 - val_loss: 0.5228 - val_acc: 0.7447\n",
            "Epoch 64/90\n",
            "144000/144000 - 50s - loss: 0.4261 - acc: 0.7977 - val_loss: 0.5192 - val_acc: 0.7417\n",
            "Epoch 65/90\n",
            "144000/144000 - 50s - loss: 0.4262 - acc: 0.7980 - val_loss: 0.5181 - val_acc: 0.7456\n",
            "Epoch 66/90\n",
            "144000/144000 - 51s - loss: 0.4259 - acc: 0.7990 - val_loss: 0.5213 - val_acc: 0.7481\n",
            "Epoch 67/90\n",
            "144000/144000 - 50s - loss: 0.4259 - acc: 0.7980 - val_loss: 0.5243 - val_acc: 0.7457\n",
            "Epoch 68/90\n",
            "144000/144000 - 50s - loss: 0.4273 - acc: 0.7980 - val_loss: 0.5192 - val_acc: 0.7488\n",
            "Epoch 69/90\n",
            "144000/144000 - 50s - loss: 0.4270 - acc: 0.7984 - val_loss: 0.5212 - val_acc: 0.7466\n",
            "Epoch 70/90\n",
            "144000/144000 - 50s - loss: 0.4262 - acc: 0.7981 - val_loss: 0.5241 - val_acc: 0.7466\n",
            "Epoch 71/90\n",
            "144000/144000 - 50s - loss: 0.4266 - acc: 0.7985 - val_loss: 0.5236 - val_acc: 0.7454\n",
            "Epoch 72/90\n",
            "144000/144000 - 50s - loss: 0.4266 - acc: 0.7983 - val_loss: 0.5204 - val_acc: 0.7509\n",
            "Epoch 73/90\n",
            "144000/144000 - 50s - loss: 0.4289 - acc: 0.7975 - val_loss: 0.5247 - val_acc: 0.7486\n",
            "Epoch 74/90\n",
            "144000/144000 - 50s - loss: 0.4258 - acc: 0.7990 - val_loss: 0.5252 - val_acc: 0.7481\n",
            "Epoch 75/90\n",
            "144000/144000 - 50s - loss: 0.4267 - acc: 0.7979 - val_loss: 0.5239 - val_acc: 0.7501\n",
            "Epoch 76/90\n",
            "144000/144000 - 50s - loss: 0.4260 - acc: 0.7976 - val_loss: 0.5232 - val_acc: 0.7424\n",
            "Epoch 77/90\n",
            "144000/144000 - 50s - loss: 0.4269 - acc: 0.7981 - val_loss: 0.5270 - val_acc: 0.7479\n",
            "Epoch 78/90\n",
            "144000/144000 - 50s - loss: 0.4265 - acc: 0.7974 - val_loss: 0.5237 - val_acc: 0.7452\n",
            "Epoch 79/90\n",
            "144000/144000 - 50s - loss: 0.4257 - acc: 0.7983 - val_loss: 0.5286 - val_acc: 0.7439\n",
            "Epoch 80/90\n",
            "144000/144000 - 50s - loss: 0.4264 - acc: 0.7979 - val_loss: 0.5250 - val_acc: 0.7498\n",
            "Epoch 81/90\n",
            "144000/144000 - 50s - loss: 0.4254 - acc: 0.7988 - val_loss: 0.5214 - val_acc: 0.7487\n",
            "Epoch 82/90\n",
            "144000/144000 - 50s - loss: 0.4249 - acc: 0.7987 - val_loss: 0.5258 - val_acc: 0.7471\n",
            "Epoch 83/90\n",
            "144000/144000 - 50s - loss: 0.4252 - acc: 0.7984 - val_loss: 0.5212 - val_acc: 0.7463\n",
            "Epoch 84/90\n",
            "144000/144000 - 50s - loss: 0.4258 - acc: 0.7981 - val_loss: 0.5267 - val_acc: 0.7484\n",
            "Epoch 85/90\n",
            "144000/144000 - 50s - loss: 0.4265 - acc: 0.7976 - val_loss: 0.5319 - val_acc: 0.7472\n",
            "Epoch 86/90\n",
            "144000/144000 - 50s - loss: 0.4260 - acc: 0.7989 - val_loss: 0.5235 - val_acc: 0.7481\n",
            "Epoch 87/90\n",
            "144000/144000 - 50s - loss: 0.4239 - acc: 0.7992 - val_loss: 0.5338 - val_acc: 0.7474\n",
            "Epoch 88/90\n",
            "144000/144000 - 50s - loss: 0.4246 - acc: 0.7990 - val_loss: 0.5285 - val_acc: 0.7486\n",
            "Epoch 89/90\n",
            "144000/144000 - 50s - loss: 0.4265 - acc: 0.7973 - val_loss: 0.5193 - val_acc: 0.7473\n",
            "Epoch 90/90\n",
            "144000/144000 - 51s - loss: 0.4251 - acc: 0.7986 - val_loss: 0.5232 - val_acc: 0.7492\n",
            "Training Complete\n"
          ],
          "name": "stdout"
        }
      ]
    },
    {
      "cell_type": "code",
      "metadata": {
        "id": "Oxf5OakgHOzG",
        "colab_type": "code",
        "colab": {
          "base_uri": "https://localhost:8080/",
          "height": 607
        },
        "outputId": "80c56111-1667-4ca9-9db0-cc9feee1ad37"
      },
      "source": [
        "# plot 90 epochs\n",
        "\n",
        "#import matplotlib.image  as mpimg\n",
        "#import matplotlib.pyplot as plt\n",
        "\n",
        "#-----------------------------------------------------------\n",
        "# Retrieve a list of list results on training and test data\n",
        "# sets for each training epoch\n",
        "#-----------------------------------------------------------\n",
        "acc=history.history['acc']\n",
        "val_acc=history.history['val_acc']\n",
        "loss=history.history['loss']\n",
        "val_loss=history.history['val_loss']\n",
        "\n",
        "epochs=range(len(acc)) # Get number of epochs\n",
        "\n",
        "#------------------------------------------------\n",
        "# Plot training and validation accuracy per epoch\n",
        "#------------------------------------------------\n",
        "plt.plot(epochs, acc, 'r')\n",
        "plt.plot(epochs, val_acc, 'b')\n",
        "plt.title('Training and validation accuracy - 90 epochs')\n",
        "plt.xlabel(\"Epochs\")\n",
        "plt.ylabel(\"Accuracy\")\n",
        "plt.legend([\"Accuracy\", \"Validation Accuracy\"])\n",
        "\n",
        "plt.figure()\n",
        "\n",
        "#------------------------------------------------\n",
        "# Plot training and validation loss per epoch\n",
        "#------------------------------------------------\n",
        "plt.plot(epochs, loss, 'r')\n",
        "plt.plot(epochs, val_loss, 'b')\n",
        "plt.title('Training and validation loss - 90 epochs')\n",
        "plt.xlabel(\"Epochs\")\n",
        "plt.ylabel(\"Loss\")\n",
        "plt.legend([\"Loss\", \"Validation Loss\"])\n",
        "\n",
        "plt.figure()\n",
        "\n",
        "\n",
        "# Expected Output\n",
        "# A chart where the validation loss does not increase sharply!"
      ],
      "execution_count": 23,
      "outputs": [
        {
          "output_type": "execute_result",
          "data": {
            "text/plain": [
              "<Figure size 432x288 with 0 Axes>"
            ]
          },
          "metadata": {
            "tags": []
          },
          "execution_count": 23
        },
        {
          "output_type": "display_data",
          "data": {
            "image/png": "[encoded data removed]",
            "text/plain": [
              "<Figure size 432x288 with 1 Axes>"
            ]
          },
          "metadata": {
            "tags": []
          }
        },
        {
          "output_type": "display_data",
          "data": {
            "image/png": "[encoded data removed]",
            "text/plain": [
              "<Figure size 432x288 with 1 Axes>"
            ]
          },
          "metadata": {
            "tags": []
          }
        },
        {
          "output_type": "display_data",
          "data": {
            "text/plain": [
              "<Figure size 432x288 with 0 Axes>"
            ]
          },
          "metadata": {
            "tags": []
          }
        }
      ]
    }
  ]
}